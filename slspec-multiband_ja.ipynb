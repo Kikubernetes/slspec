{
 "cells": [
  {
   "cell_type": "markdown",
   "id": "b33c871c",
   "metadata": {},
   "source": [
    "<a target=\"_blank\" href=\"https://colab.research.google.com/github/Kikubernetes/slspec/blob/main/slspec-multiband_ja.ipynb\">\n",
    "  <img src=\"https://colab.research.google.com/assets/colab-badge.svg\" alt=\"Open In Colab\"/>\n",
    "</a>"
   ]
  },
  {
   "cell_type": "code",
   "execution_count": null,
   "id": "35ddf965",
   "metadata": {
    "scrolled": true
   },
   "outputs": [],
   "source": [
    "# DWI.jsonを手持ちのjsonファイル名に書き換える\n",
    "\n",
    "import json\n",
    "with open('DWI.json') as f:\n",
    "    js = json.load(f, parse_float=float)"
   ]
  },
  {
   "cell_type": "code",
   "execution_count": null,
   "id": "51f79a9e",
   "metadata": {},
   "outputs": [],
   "source": [
    "# スライスタイミングが記載されていることを確認.記載がなければ終了\n",
    "\n",
    "import sys\n",
    "if not  'SliceTiming' in js:\n",
    "    print(\"Sorry, this json file doesn't have slice timing. Exitted and succeeding process was skipped\")\n",
    "    sys.exit()\n",
    "else:\n",
    "    print(js[\"SliceTiming\"])\n",
    "    st = js[\"SliceTiming\"]"
   ]
  },
  {
   "cell_type": "code",
   "execution_count": null,
   "id": "1b01e6ea",
   "metadata": {},
   "outputs": [],
   "source": [
    "# pandasに取り込む。この時のインデックスがスライス位置になっている\n",
    "\n",
    "import pandas as pd\n",
    "df1 = pd.DataFrame(data={'Time': st })\n",
    "df1"
   ]
  },
  {
   "cell_type": "code",
   "execution_count": null,
   "id": "4a4ee84f",
   "metadata": {},
   "outputs": [],
   "source": [
    "# スライス枚数を取得。df１の行数がスライス枚数となる。これをns(number of slices)に入れておく\n",
    "ns = print(df1.shape[0])"
   ]
  },
  {
   "cell_type": "code",
   "execution_count": null,
   "id": "edca7583",
   "metadata": {},
   "outputs": [],
   "source": [
    "# 時間順にソート\n",
    "\n",
    "df2 = df1.copy()\n",
    "df2 = df2.sort_values(by=['Time'])\n",
    "df2"
   ]
  },
  {
   "cell_type": "code",
   "execution_count": null,
   "id": "85253455",
   "metadata": {},
   "outputs": [],
   "source": [
    "# インデックスを新たに振り直す\n",
    "\n",
    "df3 = df2.reset_index()\n",
    "df4 = df3.rename(columns={'index': 'slice_position'})\n",
    "df4"
   ]
  },
  {
   "cell_type": "code",
   "execution_count": null,
   "id": "fedeb8eb",
   "metadata": {},
   "outputs": [],
   "source": [
    "# このままだとスライス位置が昇順になっていないのでソートし直す\n",
    "\n",
    "df5 = df4.sort_values(by=['Time','slice_position'])\n",
    "df5"
   ]
  },
  {
   "cell_type": "code",
   "execution_count": null,
   "id": "d5e51047",
   "metadata": {},
   "outputs": [],
   "source": [
    "# マルチバンドの回数を取得\n",
    "\n",
    "if  'MultibandAccelerationFactor' in js:\n",
    "    step = js['MultibandAccelerationFactor']\n",
    "else:\n",
    "    step = 1\n",
    "print( 'Multiband factor is ', step )"
   ]
  },
  {
   "cell_type": "code",
   "execution_count": null,
   "id": "9ec4d497",
   "metadata": {},
   "outputs": [],
   "source": [
    "# スライスポジションを切り出す\n",
    "sp = df5['slice_position']\n",
    "sp"
   ]
  },
  {
   "cell_type": "code",
   "execution_count": null,
   "id": "1901cd88",
   "metadata": {},
   "outputs": [],
   "source": [
    "# マルチバンドのstep数（マルチバンドなしから8まで）による場合分けをして各列の値を取得。スライスしたものにインデックスを振り直して結合できるようにする。\n",
    "\n",
    "if step == 1:\n",
    "    line1 = sp\n",
    "    column1 = line1.reset_index(drop=True)\n",
    "    slspec = column1\n",
    "elif step == 2:\n",
    "    line1 = sp.iloc[::step]\n",
    "    line2 = sp.iloc[1:ns:step]\n",
    "    column1 = line1.reset_index(drop=True)\n",
    "    column2 = line2.reset_index(drop=True)\n",
    "    slspec = pd.concat([column1,column2], axis=1)\n",
    "elif step == 3:\n",
    "    line1 = sp.iloc[::step]\n",
    "    line2 = sp.iloc[1:ns:step]\n",
    "    line3 = sp.iloc[2:ns:step]\n",
    "    column1 = line1.reset_index(drop=True)\n",
    "    column2 = line2.reset_index(drop=True)\n",
    "    column3 = line3.reset_index(drop=True)\n",
    "    slspec = pd.concat([column1,column2,column3], axis=1)\n",
    "elif step == 4:\n",
    "    line1 = sp.iloc[::step]\n",
    "    line2 = sp.iloc[1:ns:step]\n",
    "    line3 = sp.iloc[2:ns:step]\n",
    "    line4 = sp.iloc[3:ns:step]\n",
    "    column1 = line1.reset_index(drop=True)\n",
    "    column2 = line2.reset_index(drop=True)\n",
    "    column3 = line3.reset_index(drop=True)\n",
    "    column4 = line4.reset_index(drop=True)\n",
    "    slspec = pd.concat([column1,column2,column3,column4], axis=1)\n",
    "elif step == 5:\n",
    "    line1 = sp.iloc[::step]\n",
    "    line2 = sp.iloc[1:ns:step]\n",
    "    line3 = sp.iloc[2:ns:step]\n",
    "    line4 = sp.iloc[3:ns:step]\n",
    "    line5 = sp.iloc[4:ns:step]\n",
    "    column1 = line1.reset_index(drop=True)\n",
    "    column2 = line2.reset_index(drop=True)\n",
    "    column3 = line3.reset_index(drop=True)\n",
    "    column4 = line4.reset_index(drop=True)\n",
    "    column5 = line5.reset_index(drop=True)\n",
    "    slspec = pd.concat([column1,column2,column3,column4,column5], axis=1)\n",
    "elif step == 6:\n",
    "    line1 = sp.iloc[::step]\n",
    "    line2 = sp.iloc[1:ns:step]\n",
    "    line3 = sp.iloc[2:ns:step]\n",
    "    line4 = sp.iloc[3:ns:step]\n",
    "    line5 = sp.iloc[4:ns:step]\n",
    "    line6 = sp.iloc[5:ns:step]\n",
    "    column1 = line1.reset_index(drop=True)\n",
    "    column2 = line2.reset_index(drop=True)\n",
    "    column3 = line3.reset_index(drop=True)\n",
    "    column4 = line4.reset_index(drop=True)\n",
    "    column5 = line5.reset_index(drop=True)\n",
    "    column6 = line6.reset_index(drop=True)\n",
    "    slspec = pd.concat([column1,column2,column3,column4,column5,column6], axis=1)\n",
    "elif step == 7:\n",
    "    line1 = sp.iloc[::step]\n",
    "    line2 = sp.iloc[1:ns:step]\n",
    "    line3 = sp.iloc[2:ns:step]\n",
    "    line4 = sp.iloc[3:ns:step]\n",
    "    line5 = sp.iloc[4:ns:step]\n",
    "    line6 = sp.iloc[5:ns:step]\n",
    "    line7 = sp.iloc[6:ns:step]\n",
    "    column1 = line1.reset_index(drop=True)\n",
    "    column2 = line2.reset_index(drop=True)\n",
    "    column3 = line3.reset_index(drop=True)\n",
    "    column4 = line4.reset_index(drop=True)\n",
    "    column5 = line5.reset_index(drop=True)\n",
    "    column6 = line6.reset_index(drop=True)\n",
    "    column7 = line7.reset_index(drop=True)\n",
    "    slspec = pd.concat([column1,column2,column3,column4,column5,column6,column7], axis=1)\n",
    "elif step == 8:\n",
    "    line1 = sp.iloc[::step]\n",
    "    line2 = sp.iloc[1:ns:step]\n",
    "    line3 = sp.iloc[2:ns:step]\n",
    "    line4 = sp.iloc[3:ns:step]\n",
    "    line5 = sp.iloc[4:ns:step]\n",
    "    line6 = sp.iloc[5:ns:step]\n",
    "    line7 = sp.iloc[6:ns:step]\n",
    "    line8 = sp.iloc[7:ns:step]\n",
    "    column1 = line1.reset_index(drop=True)\n",
    "    column2 = line2.reset_index(drop=True)\n",
    "    column3 = line3.reset_index(drop=True)\n",
    "    column4 = line4.reset_index(drop=True)\n",
    "    column5 = line5.reset_index(drop=True)\n",
    "    column6 = line6.reset_index(drop=True)\n",
    "    column7 = line7.reset_index(drop=True)\n",
    "    column8 = line8.reset_index(drop=True)\n",
    "    slspec = pd.concat([column1,column2,column3,column4,column5,column6,column7,column8], axis=1)\n",
    "else:\n",
    "    print('error: multiband>8 is not supported') "
   ]
  },
  {
   "cell_type": "code",
   "execution_count": null,
   "id": "dc1f1117",
   "metadata": {},
   "outputs": [],
   "source": [
    "# slspec.txtに出力\n",
    "slspec.to_csv('slspec.txt', header=False, index = False, sep = ' ')"
   ]
  }
 ],
 "metadata": {
  "kernelspec": {
   "display_name": "Python 3 (ipykernel)",
   "language": "python",
   "name": "python3"
  },
  "language_info": {
   "codemirror_mode": {
    "name": "ipython",
    "version": 3
   },
   "file_extension": ".py",
   "mimetype": "text/x-python",
   "name": "python",
   "nbconvert_exporter": "python",
   "pygments_lexer": "ipython3",
   "version": "3.10.1"
  }
 },
 "nbformat": 4,
 "nbformat_minor": 5
}
